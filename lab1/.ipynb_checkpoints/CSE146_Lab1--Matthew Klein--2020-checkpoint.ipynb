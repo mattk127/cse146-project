{
 "cells": [
  {
   "cell_type": "markdown",
   "metadata": {},
   "source": [
    "# CSE 146 Lab 1: Machine Learning Basics and Overfitting\n",
    "\n",
    "### ASSIGNED: Sunday, January 12 2019\n",
    "### DUE: Tuesday, January 21 2019\n",
    "\n",
    "The purpose of this assignment is for you to gain experience with basic tools for training, evaluating and critiquing machine learning models.\n",
    "\n",
    "In this lab, you'll make use of Python 3, as well as standard Python libraries for data science pandas, scikit-learn, and matplotlib. If you're new to Python, we encourage you to examine the language documentation (https://docs.python.org/3/), which includes some simple tutorials.\n"
   ]
  },
  {
   "cell_type": "markdown",
   "metadata": {},
   "source": [
    "## Instructions \n",
    "This assignment is to be done <b>on your own</b>, but you can talk about the assignment with your classmates if you get stuck. (Be sure to list the students you spoke with about this assignment in the space provided below.) As always, please meet with the teaching team (during office hours) if you have difficulties.\n",
    "\n",
    "Be sure to rename this homework notebook so that it includes your name. \n",
    "\n",
    "### List any students you talked with about this assignment here:\n",
    "1. Cyrus Karsan\n",
    "2. [person 2]\n",
    "3. etc."
   ]
  },
  {
   "cell_type": "markdown",
   "metadata": {},
   "source": [
    "Before starting on this lab, you should make sure you have a solid understanding of machine learning basics. Please be sure to complete the listed modules in Google's [Introduction to Machine Learning Crash Course](https://developers.google.com/machine-learning/crash-course/ml-intro)."
   ]
  },
  {
   "cell_type": "markdown",
   "metadata": {},
   "source": [
    "# Problems\n",
    "## Part 1: Loading Data (10 points)\n",
    "\n",
    "As you saw before, Pandas DataFrames are useful structures for working with data in Python. We can load our data from a CSV file directly into a DataFrame and display a sample of rows as output.\n",
    "\n",
    "The data we are using for this homework is from the \"Communities and Crime\" dataset available from UC Irvine's Machine Learning Repository (http://archive.ics.uci.edu/ml/datasets/communities+and+crime). It includes data about the different types of crimes among various communities, socioeconomic and racial data about each community, and information about the police force in each community.\n",
    "\n",
    "The last column indicates whether or not there is a high rate of violent crime in the community (1 if yes, 0 if no). This is the target (Y) variable for the dataset. Running the two cells below will display a subset of the entries as well as a list of the column names."
   ]
  },
  {
   "cell_type": "code",
   "execution_count": 1,
   "metadata": {},
   "outputs": [
    {
     "data": {
      "text/html": [
       "<div>\n",
       "<style scoped>\n",
       "    .dataframe tbody tr th:only-of-type {\n",
       "        vertical-align: middle;\n",
       "    }\n",
       "\n",
       "    .dataframe tbody tr th {\n",
       "        vertical-align: top;\n",
       "    }\n",
       "\n",
       "    .dataframe thead th {\n",
       "        text-align: right;\n",
       "    }\n",
       "</style>\n",
       "<table border=\"1\" class=\"dataframe\">\n",
       "  <thead>\n",
       "    <tr style=\"text-align: right;\">\n",
       "      <th></th>\n",
       "      <th>population</th>\n",
       "      <th>householdsize</th>\n",
       "      <th>racepctblack</th>\n",
       "      <th>racePctWhite</th>\n",
       "      <th>racePctAsian</th>\n",
       "      <th>racePctHisp</th>\n",
       "      <th>agePct12t21</th>\n",
       "      <th>agePct12t29</th>\n",
       "      <th>agePct16t24</th>\n",
       "      <th>agePct65up</th>\n",
       "      <th>...</th>\n",
       "      <th>LandArea</th>\n",
       "      <th>PopDens</th>\n",
       "      <th>PctUsePubTrans</th>\n",
       "      <th>PolicCars</th>\n",
       "      <th>PolicOperBudg</th>\n",
       "      <th>LemasPctPolicOnPatr</th>\n",
       "      <th>LemasGangUnitDeploy</th>\n",
       "      <th>LemasPctOfficDrugUn</th>\n",
       "      <th>PolicBudgPerPop</th>\n",
       "      <th>ViolentCrimesPerPop</th>\n",
       "    </tr>\n",
       "  </thead>\n",
       "  <tbody>\n",
       "    <tr>\n",
       "      <td>0</td>\n",
       "      <td>0.19</td>\n",
       "      <td>0.33</td>\n",
       "      <td>0.02</td>\n",
       "      <td>0.90</td>\n",
       "      <td>0.12</td>\n",
       "      <td>0.17</td>\n",
       "      <td>0.34</td>\n",
       "      <td>0.47</td>\n",
       "      <td>0.29</td>\n",
       "      <td>0.32</td>\n",
       "      <td>...</td>\n",
       "      <td>0.12</td>\n",
       "      <td>0.26</td>\n",
       "      <td>0.20</td>\n",
       "      <td>0.06</td>\n",
       "      <td>0.04</td>\n",
       "      <td>0.9</td>\n",
       "      <td>0.5</td>\n",
       "      <td>0.32</td>\n",
       "      <td>0.14</td>\n",
       "      <td>0.0</td>\n",
       "    </tr>\n",
       "    <tr>\n",
       "      <td>1</td>\n",
       "      <td>0.00</td>\n",
       "      <td>0.16</td>\n",
       "      <td>0.12</td>\n",
       "      <td>0.74</td>\n",
       "      <td>0.45</td>\n",
       "      <td>0.07</td>\n",
       "      <td>0.26</td>\n",
       "      <td>0.59</td>\n",
       "      <td>0.35</td>\n",
       "      <td>0.27</td>\n",
       "      <td>...</td>\n",
       "      <td>0.02</td>\n",
       "      <td>0.12</td>\n",
       "      <td>0.45</td>\n",
       "      <td>0.00</td>\n",
       "      <td>0.00</td>\n",
       "      <td>0.0</td>\n",
       "      <td>0.0</td>\n",
       "      <td>0.00</td>\n",
       "      <td>0.00</td>\n",
       "      <td>1.0</td>\n",
       "    </tr>\n",
       "    <tr>\n",
       "      <td>2</td>\n",
       "      <td>0.00</td>\n",
       "      <td>0.42</td>\n",
       "      <td>0.49</td>\n",
       "      <td>0.56</td>\n",
       "      <td>0.17</td>\n",
       "      <td>0.04</td>\n",
       "      <td>0.39</td>\n",
       "      <td>0.47</td>\n",
       "      <td>0.28</td>\n",
       "      <td>0.32</td>\n",
       "      <td>...</td>\n",
       "      <td>0.01</td>\n",
       "      <td>0.21</td>\n",
       "      <td>0.02</td>\n",
       "      <td>0.00</td>\n",
       "      <td>0.00</td>\n",
       "      <td>0.0</td>\n",
       "      <td>0.0</td>\n",
       "      <td>0.00</td>\n",
       "      <td>0.00</td>\n",
       "      <td>1.0</td>\n",
       "    </tr>\n",
       "    <tr>\n",
       "      <td>3</td>\n",
       "      <td>0.04</td>\n",
       "      <td>0.77</td>\n",
       "      <td>1.00</td>\n",
       "      <td>0.08</td>\n",
       "      <td>0.12</td>\n",
       "      <td>0.10</td>\n",
       "      <td>0.51</td>\n",
       "      <td>0.50</td>\n",
       "      <td>0.34</td>\n",
       "      <td>0.21</td>\n",
       "      <td>...</td>\n",
       "      <td>0.02</td>\n",
       "      <td>0.39</td>\n",
       "      <td>0.28</td>\n",
       "      <td>0.00</td>\n",
       "      <td>0.00</td>\n",
       "      <td>0.0</td>\n",
       "      <td>0.0</td>\n",
       "      <td>0.00</td>\n",
       "      <td>0.00</td>\n",
       "      <td>0.0</td>\n",
       "    </tr>\n",
       "    <tr>\n",
       "      <td>4</td>\n",
       "      <td>0.01</td>\n",
       "      <td>0.55</td>\n",
       "      <td>0.02</td>\n",
       "      <td>0.95</td>\n",
       "      <td>0.09</td>\n",
       "      <td>0.05</td>\n",
       "      <td>0.38</td>\n",
       "      <td>0.38</td>\n",
       "      <td>0.23</td>\n",
       "      <td>0.36</td>\n",
       "      <td>...</td>\n",
       "      <td>0.04</td>\n",
       "      <td>0.09</td>\n",
       "      <td>0.02</td>\n",
       "      <td>0.00</td>\n",
       "      <td>0.00</td>\n",
       "      <td>0.0</td>\n",
       "      <td>0.0</td>\n",
       "      <td>0.00</td>\n",
       "      <td>0.00</td>\n",
       "      <td>0.0</td>\n",
       "    </tr>\n",
       "  </tbody>\n",
       "</table>\n",
       "<p>5 rows × 123 columns</p>\n",
       "</div>"
      ],
      "text/plain": [
       "   population  householdsize  racepctblack  racePctWhite  racePctAsian  \\\n",
       "0        0.19           0.33          0.02          0.90          0.12   \n",
       "1        0.00           0.16          0.12          0.74          0.45   \n",
       "2        0.00           0.42          0.49          0.56          0.17   \n",
       "3        0.04           0.77          1.00          0.08          0.12   \n",
       "4        0.01           0.55          0.02          0.95          0.09   \n",
       "\n",
       "   racePctHisp  agePct12t21  agePct12t29  agePct16t24  agePct65up  ...  \\\n",
       "0         0.17         0.34         0.47         0.29        0.32  ...   \n",
       "1         0.07         0.26         0.59         0.35        0.27  ...   \n",
       "2         0.04         0.39         0.47         0.28        0.32  ...   \n",
       "3         0.10         0.51         0.50         0.34        0.21  ...   \n",
       "4         0.05         0.38         0.38         0.23        0.36  ...   \n",
       "\n",
       "   LandArea  PopDens  PctUsePubTrans  PolicCars  PolicOperBudg  \\\n",
       "0      0.12     0.26            0.20       0.06           0.04   \n",
       "1      0.02     0.12            0.45       0.00           0.00   \n",
       "2      0.01     0.21            0.02       0.00           0.00   \n",
       "3      0.02     0.39            0.28       0.00           0.00   \n",
       "4      0.04     0.09            0.02       0.00           0.00   \n",
       "\n",
       "   LemasPctPolicOnPatr  LemasGangUnitDeploy  LemasPctOfficDrugUn  \\\n",
       "0                  0.9                  0.5                 0.32   \n",
       "1                  0.0                  0.0                 0.00   \n",
       "2                  0.0                  0.0                 0.00   \n",
       "3                  0.0                  0.0                 0.00   \n",
       "4                  0.0                  0.0                 0.00   \n",
       "\n",
       "   PolicBudgPerPop  ViolentCrimesPerPop  \n",
       "0             0.14                  0.0  \n",
       "1             0.00                  1.0  \n",
       "2             0.00                  1.0  \n",
       "3             0.00                  0.0  \n",
       "4             0.00                  0.0  \n",
       "\n",
       "[5 rows x 123 columns]"
      ]
     },
     "execution_count": 1,
     "metadata": {},
     "output_type": "execute_result"
    }
   ],
   "source": [
    "import pandas as pd\n",
    "import numpy as np\n",
    "dataframe = pd.read_csv(\"communities.csv\")\n",
    "\n",
    "dataframe.head(5) # Show the first 5 rows of the dataframe"
   ]
  },
  {
   "cell_type": "code",
   "execution_count": 2,
   "metadata": {
    "scrolled": true
   },
   "outputs": [
    {
     "data": {
      "text/plain": [
       "['population',\n",
       " 'householdsize',\n",
       " 'racepctblack',\n",
       " 'racePctWhite',\n",
       " 'racePctAsian',\n",
       " 'racePctHisp',\n",
       " 'agePct12t21',\n",
       " 'agePct12t29',\n",
       " 'agePct16t24',\n",
       " 'agePct65up',\n",
       " 'numbUrban',\n",
       " 'pctUrban',\n",
       " 'medIncome',\n",
       " 'pctWWage',\n",
       " 'pctWFarmSelf',\n",
       " 'pctWInvInc',\n",
       " 'pctWSocSec',\n",
       " 'pctWPubAsst',\n",
       " 'pctWRetire',\n",
       " 'medFamInc',\n",
       " 'perCapInc',\n",
       " 'whitePerCap',\n",
       " 'blackPerCap',\n",
       " 'indianPerCap',\n",
       " 'AsianPerCap',\n",
       " 'OtherPerCap',\n",
       " 'HispPerCap',\n",
       " 'NumUnderPov',\n",
       " 'PctPopUnderPov',\n",
       " 'PctLess9thGrade',\n",
       " 'PctNotHSGrad',\n",
       " 'PctBSorMore',\n",
       " 'PctUnemployed',\n",
       " 'PctEmploy',\n",
       " 'PctEmplManu',\n",
       " 'PctEmplProfServ',\n",
       " 'PctOccupManu',\n",
       " 'PctOccupMgmtProf',\n",
       " 'MalePctDivorce',\n",
       " 'MalePctNevMarr',\n",
       " 'FemalePctDiv',\n",
       " 'TotalPctDiv',\n",
       " 'PersPerFam',\n",
       " 'PctFam2Par',\n",
       " 'PctKids2Par',\n",
       " 'PctYoungKids2Par',\n",
       " 'PctTeen2Par',\n",
       " 'PctWorkMomYoungKids',\n",
       " 'PctWorkMom',\n",
       " 'NumIlleg',\n",
       " 'PctIlleg',\n",
       " 'NumImmig',\n",
       " 'PctImmigRecent',\n",
       " 'PctImmigRec5',\n",
       " 'PctImmigRec8',\n",
       " 'PctImmigRec10',\n",
       " 'PctRecentImmig',\n",
       " 'PctRecImmig5',\n",
       " 'PctRecImmig8',\n",
       " 'PctRecImmig10',\n",
       " 'PctSpeakEnglOnly',\n",
       " 'PctNotSpeakEnglWell',\n",
       " 'PctLargHouseFam',\n",
       " 'PctLargHouseOccup',\n",
       " 'PersPerOccupHous',\n",
       " 'PersPerOwnOccHous',\n",
       " 'PersPerRentOccHous',\n",
       " 'PctPersOwnOccup',\n",
       " 'PctPersDenseHous',\n",
       " 'PctHousLess3BR',\n",
       " 'MedNumBR',\n",
       " 'HousVacant',\n",
       " 'PctHousOccup',\n",
       " 'PctHousOwnOcc',\n",
       " 'PctVacantBoarded',\n",
       " 'PctVacMore6Mos',\n",
       " 'MedYrHousBuilt',\n",
       " 'PctHousNoPhone',\n",
       " 'PctWOFullPlumb',\n",
       " 'OwnOccLowQuart',\n",
       " 'OwnOccMedVal',\n",
       " 'OwnOccHiQuart',\n",
       " 'RentLowQ',\n",
       " 'RentMedian',\n",
       " 'RentHighQ',\n",
       " 'MedRent',\n",
       " 'MedRentPctHousInc',\n",
       " 'MedOwnCostPctInc',\n",
       " 'MedOwnCostPctIncNoMtg',\n",
       " 'NumInShelters',\n",
       " 'NumStreet',\n",
       " 'PctForeignBorn',\n",
       " 'PctBornSameState',\n",
       " 'PctSameHouse85',\n",
       " 'PctSameCity85',\n",
       " 'PctSameState85',\n",
       " 'LemasSwornFT',\n",
       " 'LemasSwFTPerPop',\n",
       " 'LemasSwFTFieldOps',\n",
       " 'LemasSwFTFieldPerPop',\n",
       " 'LemasTotalReq',\n",
       " 'LemasTotReqPerPop',\n",
       " 'PolicReqPerOffic',\n",
       " 'PolicPerPop',\n",
       " 'RacialMatchCommPol',\n",
       " 'PctPolicWhite',\n",
       " 'PctPolicBlack',\n",
       " 'PctPolicHisp',\n",
       " 'PctPolicAsian',\n",
       " 'PctPolicMinor',\n",
       " 'OfficAssgnDrugUnits',\n",
       " 'NumKindsDrugsSeiz',\n",
       " 'PolicAveOTWorked',\n",
       " 'LandArea',\n",
       " 'PopDens',\n",
       " 'PctUsePubTrans',\n",
       " 'PolicCars',\n",
       " 'PolicOperBudg',\n",
       " 'LemasPctPolicOnPatr',\n",
       " 'LemasGangUnitDeploy',\n",
       " 'LemasPctOfficDrugUn',\n",
       " 'PolicBudgPerPop',\n",
       " 'ViolentCrimesPerPop']"
      ]
     },
     "execution_count": 2,
     "metadata": {},
     "output_type": "execute_result"
    }
   ],
   "source": [
    "dataframe.columns.values.tolist()"
   ]
  },
  {
   "cell_type": "markdown",
   "metadata": {},
   "source": [
    "We can also extract the numerical values from a DataFrame into a Numpy array. Depending on the situation, these formats have various strengths and weaknesses. Numpy arrays are lightweight and behave much like a standard list, but do not support heterogenous data or many of the Pandas features for indexing and querying.\n",
    "\n",
    "Below, we extract the values from our dataframe, display the dimensions of the array, and display a subset of the rows and columns. You should find that the values displayed match with the above dataframe output.\n",
    "\n",
    "More information about array indexing in Numpy is available here: https://docs.scipy.org/doc/numpy-1.13.0/reference/arrays.indexing.html"
   ]
  },
  {
   "cell_type": "code",
   "execution_count": 3,
   "metadata": {},
   "outputs": [],
   "source": [
    "data = dataframe.values[:, :]"
   ]
  },
  {
   "cell_type": "code",
   "execution_count": 4,
   "metadata": {},
   "outputs": [
    {
     "data": {
      "text/plain": [
       "(1994, 123)"
      ]
     },
     "execution_count": 4,
     "metadata": {},
     "output_type": "execute_result"
    }
   ],
   "source": [
    "data.shape"
   ]
  },
  {
   "cell_type": "code",
   "execution_count": 5,
   "metadata": {
    "scrolled": true
   },
   "outputs": [
    {
     "data": {
      "text/plain": [
       "array([[0.19, 0.33, 0.02, 0.9 , 0.12],\n",
       "       [0.  , 0.16, 0.12, 0.74, 0.45],\n",
       "       [0.  , 0.42, 0.49, 0.56, 0.17],\n",
       "       [0.04, 0.77, 1.  , 0.08, 0.12],\n",
       "       [0.01, 0.55, 0.02, 0.95, 0.09]])"
      ]
     },
     "execution_count": 5,
     "metadata": {},
     "output_type": "execute_result"
    }
   ],
   "source": [
    "data[0:5, 0:5]"
   ]
  },
  {
   "cell_type": "markdown",
   "metadata": {},
   "source": [
    "### Problem 1.1: Creating X and Y (5 Points)\n",
    "\n",
    "Create arrays titled \"X\" and \"Y\", where X consists of all but the last column of data (for all rows) and Y is exclusively the last column. Print the shape of each array as accessed above."
   ]
  },
  {
   "cell_type": "code",
   "execution_count": 6,
   "metadata": {},
   "outputs": [
    {
     "name": "stdout",
     "output_type": "stream",
     "text": [
      "(1994, 122)\n",
      "(1994, 1)\n"
     ]
    }
   ],
   "source": [
    "## TYPE ANSWER HERE\n",
    "\n",
    "X = dataframe.values[:,0:122]\n",
    "print(str(X.shape))\n",
    "\n",
    "Y = dataframe.values[:,122:]\n",
    "print(str(Y.shape))"
   ]
  },
  {
   "cell_type": "markdown",
   "metadata": {},
   "source": [
    "### Problem 1.2: Creating Train and Test Sets (5 points)\n",
    "\n",
    "Create arrays titled: \n",
    "- X_train (first 1000 rows of X)\n",
    "- X_test (remaining rows of X)\n",
    "- Y_train (first 1000 rows of y)\n",
    "- Y_test (remaining rows of y)\n",
    "\n",
    "As the order of the records in the dataset are randomized, it is fine to simply use the beginning of the file as training and the rest as test.\n",
    "\n",
    "For the y arrays, you may want to consider using the <code>.ravel()</code> method for \"flattening\" the array from 2 dimensions down to 1. Print the shape of each array."
   ]
  },
  {
   "cell_type": "code",
   "execution_count": 7,
   "metadata": {},
   "outputs": [
    {
     "name": "stdout",
     "output_type": "stream",
     "text": [
      "(1000,)\n",
      "(994,)\n"
     ]
    }
   ],
   "source": [
    "## TYPE ANSWER HERE\n",
    "x_train = X[0:1000]\n",
    "x_test = X[1000:]\n",
    "ytr = Y[0:1000]\n",
    "yte = Y[1000:]\n",
    "y_train = np.ravel(ytr)\n",
    "y_test = np.ravel(yte)\n",
    "print(y_train.shape)\n",
    "print(y_test.shape)"
   ]
  },
  {
   "cell_type": "markdown",
   "metadata": {},
   "source": [
    "## Part 2: Training a Model\n",
    "\n",
    "Scikit-learn features modules for a wide variety of machine learning algorithms, such as logistic regression and decision trees. Read the documentation to understand how to train these models and generate predictions.\n",
    "- Logistic Regression documentation: https://scikit-learn.org/stable/modules/generated/sklearn.linear_model.LogisticRegression.html\n",
    "- Decision Tree documentation: https://scikit-learn.org/stable/modules/generated/sklearn.tree.DecisionTreeClassifier.html\n",
    "\n"
   ]
  },
  {
   "cell_type": "code",
   "execution_count": 8,
   "metadata": {},
   "outputs": [],
   "source": [
    "from sklearn import linear_model, tree\n",
    "\n",
    "dt = tree.DecisionTreeClassifier(max_depth=5)\n",
    "logreg = linear_model.LogisticRegression(solver='liblinear')"
   ]
  },
  {
   "cell_type": "markdown",
   "metadata": {},
   "source": [
    "### Problem 2.1: Making Predictions with Decision Trees and Linear Regression (10 points)\n",
    "\n",
    "Using your X_train and Y_train arrays, train:\n",
    "- a Decision Tree model\n",
    "- a linear model via Logistic Regression (this may throw a DataConversionWarning which you can ignore)\n",
    "\n",
    "Using X_test, generate \"Y_hat\" predictions (one set of predictions with each model). Print the shape of each prediction array. For those new to scikit-learn, see the \"predict\" method within each model's documentation."
   ]
  },
  {
   "cell_type": "code",
   "execution_count": 119,
   "metadata": {},
   "outputs": [
    {
     "name": "stdout",
     "output_type": "stream",
     "text": [
      "(994,)\n",
      "(994,)\n"
     ]
    }
   ],
   "source": [
    "## TYPE ANSWER HERE\n",
    "logreg.fit(x_train,y_train)\n",
    "dt.fit(x_train,y_train)\n",
    "\n",
    "y_hat_logreg = logreg.predict(x_test)\n",
    "y_hat_dt = dt.predict(x_test)\n",
    "print(y_hat_dt.shape)\n",
    "print(y_hat_logreg.shape)"
   ]
  },
  {
   "cell_type": "markdown",
   "metadata": {},
   "source": [
    "## Part 3: Evaluating a Model\n",
    "### Problem 3.1: Compute Prediction Error (5 points)\n",
    "Write a function which takes in 2 binary arrays as arguments (i.e. y and y_hat) and computes the prediction error as a decimal between 0 and 1. Use this function to compute the errors for your Decision Tree and Logistic Regression models."
   ]
  },
  {
   "cell_type": "code",
   "execution_count": 10,
   "metadata": {},
   "outputs": [],
   "source": [
    "def error(y, y_hat):\n",
    "    ## TYPE ANSWER HERE\n",
    "    #y = Y_test arr and y_hat = lg/dt Predict arr\n",
    "    diff = np.abs(y_hat-y)\n",
    "    error = np.sum(diff)\n",
    "    result = error/len(diff)\n",
    "    return result\n",
    "    pass\n",
    "    \n",
    "    "
   ]
  },
  {
   "cell_type": "code",
   "execution_count": 11,
   "metadata": {},
   "outputs": [
    {
     "data": {
      "text/plain": [
       "(0.1619718309859155, 0.14989939637826963)"
      ]
     },
     "execution_count": 11,
     "metadata": {},
     "output_type": "execute_result"
    }
   ],
   "source": [
    "(error(y_test, y_hat_dt), error(y_test, y_hat_logreg))"
   ]
  },
  {
   "cell_type": "markdown",
   "metadata": {},
   "source": [
    "## Part 4: Visualizing Tradeoffs (20 points)"
   ]
  },
  {
   "cell_type": "markdown",
   "metadata": {},
   "source": [
    "### Matplotlib\n",
    "\n",
    "Remember our snazzy library 'matplotlib'? Below we demonstrate some of its features in a generic plot. Hopefully it will be helpful for this next section, where we ask you to plot some tradeoffs."
   ]
  },
  {
   "cell_type": "code",
   "execution_count": 12,
   "metadata": {},
   "outputs": [
    {
     "data": {
      "image/png": "[encoded data removed]",
      "text/plain": [
       "<Figure size 432x288 with 1 Axes>"
      ]
     },
     "metadata": {
      "needs_background": "light"
     },
     "output_type": "display_data"
    }
   ],
   "source": [
    "%matplotlib inline\n",
    "\n",
    "import matplotlib.pyplot as plt\n",
    "import random\n",
    "\n",
    "# Sample 100 random values from [0,1]\n",
    "y1_example = np.array([random.random() for i in range(100)])\n",
    "y2_example = np.array([i *0.01 for i in range(100)])\n",
    "# Create an array with the indices\n",
    "x_example = np.array(range(len(y1_example)))\n",
    "\n",
    "# Create a plot with a caption, X and Y legends, etc\n",
    "x_label = 'X value'\n",
    "y_label = 'Y value'\n",
    "plt.title('Example Plot')\n",
    "plt.xlabel(x_label)\n",
    "plt.ylabel(y_label)\n",
    "\n",
    "\n",
    "plt.scatter(x_example, y1_example, color='red', label='Points')\n",
    "plt.plot(x_example, y1_example, color='blue', label='Line 1')\n",
    "plt.plot(x_example, y2_example, color='green', label='Line 2')\n",
    "plt.legend()\n",
    "\n",
    "plt.show()"
   ]
  },
  {
   "cell_type": "markdown",
   "metadata": {},
   "source": [
    "### Problem 4.1: Sample Size vs Generalization Error (10 points)\n",
    "\n",
    "Write code which creates training sets of size $n \\in \\{10,20,...,990,1000\\}$ by taking the first $n$ rows of X_train and Y_train (give these different names from the original arrays). Train Decision Tree and Logistic Regression models with each of these training sets, generate out-of-sample predictions using X_test, and compute error using Y_train as above.\n",
    "\n",
    "Generate a matplotlib plot with \"Sample Size\" as the X-axis and \"Test Error\" as the Y-axis. Plot lines for both the Decision Tree and Logistic Regression results. Plot your lines in different colors and include a legend to specify which line belongs to which model class. \n",
    "\n",
    "__Disclaimer:__ The results you will see show that test error decreases quickly the number of samples in the dataset. Often, in practice, it takes tens of thousands of training samples to see a meaningful decrease in test error."
   ]
  },
  {
   "cell_type": "code",
   "execution_count": 13,
   "metadata": {},
   "outputs": [
    {
     "data": {
      "image/png": "[encoded data removed]",
      "text/plain": [
       "<Figure size 432x288 with 1 Axes>"
      ]
     },
     "metadata": {
      "needs_background": "light"
     },
     "output_type": "display_data"
    }
   ],
   "source": [
    "## TYPE ANSWER HERE\n",
    "errDataDT = []\n",
    "errDataLogreg = []\n",
    "for i in range(10,1001,10):\n",
    "    dt.fit(x_train[:i],y_train[:i])\n",
    "    logreg.fit(x_train[:i],y_train[:i])\n",
    "    errDataDT.append(error(y_test, dt.predict(x_test)))\n",
    "    errDataLogreg.append(error(y_test,logreg.predict(x_test)))\n",
    "    \n",
    "\n",
    "x = range(10,1001,10)\n",
    "plt.plot(x, errDataDT, label = \"DT error data\", c=\"b\")\n",
    "plt.plot(x, errDataLogreg, label = \"Log Reg error data\", c='r')\n",
    "plt.legend()\n",
    "plt.show()"
   ]
  },
  {
   "cell_type": "markdown",
   "metadata": {},
   "source": [
    "### Problem 4.2: Model Complexity vs Generalization Error (10 points)\n",
    "\n",
    "Vary the max depth of the decision tree from 1 to 15. Plot the resulting error when training a model with all 1000 rows of X_train and Y_train. You can adjust the max depth by reinstantiating the DecisionTreeClassifier module with a max_depth parameter:\n",
    "\n",
    "`dt = tree.DecisionTreeClassifier(max_depth=i)`\n",
    "\n",
    "Generate a plot with \"Max Depth\" as the X-axis and \"Test Error\" as the Y-axis. Plot the error when predicting labels for X_train as well as X_test for each value of the maximum tree depth. Plot your lines in different colors and include a legend to specify which line belongs to which model class. "
   ]
  },
  {
   "cell_type": "code",
   "execution_count": 21,
   "metadata": {},
   "outputs": [
    {
     "data": {
      "image/png": "[encoded data removed]",
      "text/plain": [
       "<Figure size 432x288 with 1 Axes>"
      ]
     },
     "metadata": {
      "needs_background": "light"
     },
     "output_type": "display_data"
    }
   ],
   "source": [
    "## TYPE ANSWER HERE\n",
    "trainerr = []\n",
    "testerr = []\n",
    "for i in range(1,16):\n",
    "    dtN = tree.DecisionTreeClassifier(max_depth = i)\n",
    "    dtN.fit(x_train,y_train)\n",
    "    testerr.append(error(y_test,dtN.predict(x_test)))\n",
    "    trainerr.append(error(y_train,dtN.predict(x_train)))\n",
    "\n",
    "xAx = range(1,16)\n",
    "plt.plot(xAx, testerr, label = \"Testing Error\", c='b')\n",
    "plt.plot(xAx, trainerr, label = \"Training Error\", c='r')\n",
    "plt.xlabel(\"Max Depth\")\n",
    "plt.ylabel(\"Test Error\")\n",
    "plt.legend()\n",
    "plt.show()"
   ]
  },
  {
   "cell_type": "code",
   "execution_count": 46,
   "metadata": {},
   "outputs": [
    {
     "data": {
      "text/plain": [
       "1994"
      ]
     },
     "execution_count": 46,
     "metadata": {},
     "output_type": "execute_result"
    }
   ],
   "source": [
    "coln = dataframe['population']\n",
    "coln.size"
   ]
  },
  {
   "cell_type": "markdown",
   "metadata": {},
   "source": [
    "## Part 5: Observing Error Disparities (30 points)\n",
    "\n",
    "In this section, you will explore the disparities in error for different \"groups\" of the dataset. The error disparity between two test sets with errors $\\epsilon_1$ and $\\epsilon_2$ is $|\\epsilon_1 - \\epsilon_2|$. \n",
    "\n"
   ]
  },
  {
   "cell_type": "markdown",
   "metadata": {},
   "source": [
    "### Problem 5.1: Splitting by Feature Values (10 points)\n",
    "\n",
    "Write a function which takes in X and Y arrays, a column number, and a threshold. The function should return arrays X0 and Y0 containing all rows where the value in the specified column falls strictly below the threshold, as well as arrays X1 and Y1 containing all rows where the the value in the specified column is above or equal to the threshold. \n",
    "\n",
    "\n",
    "Numpy supports indexing via an array of values, which allows you to extract a non-contiguous subset of rows from an array. You might find this helpful. More information is available here: https://docs.scipy.org/doc/numpy-1.10.0/user/basics.indexing.html"
   ]
  },
  {
   "cell_type": "code",
   "execution_count": 145,
   "metadata": {},
   "outputs": [],
   "source": [
    "def split_on_feature(X_test, Y_test, column, thresh):\n",
    "    ## TYPE ANSWER HERE\n",
    "    X0_test = []\n",
    "    Y0_test = []\n",
    "    X1_test = []\n",
    "    Y1_test = []\n",
    "    colname = dataframe[column]\n",
    "    row_count = 0\n",
    "    for row in colname:\n",
    "        if row < thresh:\n",
    "            X0_test.append(dataframe.iloc[row_count])\n",
    "            Y0_test.append(dataframe.iloc[row_count])\n",
    "            row_count = row_count + 1\n",
    "        else:\n",
    "            X1_test.append(dataframe.iloc[row_count])\n",
    "            Y1_test.append(dataframe.iloc[row_count])\n",
    "            row_count = row_count + 1\n",
    "\n",
    "    \n",
    "    #print(X0_test)\n",
    "    #print(X1_test)\n",
    "    return (X0_test, X1_test, Y0_test, Y1_test) "
   ]
  },
  {
   "cell_type": "markdown",
   "metadata": {},
   "source": [
    "### Problem 5.2: Calculating All Discrepancies (10 points)\n",
    "\n",
    "Now, let's evaluate the error disparities for the model you previously trained in Section 2.1. If you used the same naming conventions for sections 3 and 4, the models may have been overwritten. If that's the case, make sure to rerun the code in Section 2.1. \n",
    "\n",
    "For each feature in the dataset, use the function from 5.1 to split on that column when the threshold is set to 0.5. Then compute the error disparity for the feature by calculating the error of predictions made on both X0 and X1. \n",
    "\n",
    "This cell should print out the columns _by name_ (using the list of names in the Pandas dataframe) along with their corresponding error discrepancies, and should print in descending order of error discrepancy. You should omit columns where either of the splits have fewer than 100 rows."
   ]
  },
  {
   "cell_type": "code",
   "execution_count": 147,
   "metadata": {},
   "outputs": [
    {
     "name": "stdout",
     "output_type": "stream",
     "text": [
      "(1788, 123)\n",
      "(206, 123)\n"
     ]
    }
   ],
   "source": [
    "splitarr1 = split_on_feature(x_train,y_train,'PctLargHouseFam',0.5)\n",
    "#print(len(splitarr[0]))\n",
    "print(np.shape(splitarr1[0]))\n",
    "print(np.shape(splitarr1[1]))"
   ]
  },
  {
   "cell_type": "code",
   "execution_count": 134,
   "metadata": {},
   "outputs": [
    {
     "ename": "AttributeError",
     "evalue": "'numpy.ndarray' object has no attribute 'arrange'",
     "output_type": "error",
     "traceback": [
      "\u001b[1;31m---------------------------------------------------------------------------\u001b[0m",
      "\u001b[1;31mAttributeError\u001b[0m                            Traceback (most recent call last)",
      "\u001b[1;32m<ipython-input-134-f8a3e5a9e778>\u001b[0m in \u001b[0;36m<module>\u001b[1;34m\u001b[0m\n\u001b[0;32m     10\u001b[0m             \u001b[0mtwo\u001b[0m \u001b[1;33m=\u001b[0m \u001b[0mnp\u001b[0m\u001b[1;33m.\u001b[0m\u001b[0marray\u001b[0m\u001b[1;33m(\u001b[0m\u001b[0msplitarr\u001b[0m\u001b[1;33m[\u001b[0m\u001b[1;36m2\u001b[0m\u001b[1;33m]\u001b[0m\u001b[1;33m)\u001b[0m\u001b[1;33m\u001b[0m\u001b[1;33m\u001b[0m\u001b[0m\n\u001b[0;32m     11\u001b[0m             \u001b[0mthree\u001b[0m \u001b[1;33m=\u001b[0m \u001b[0mnp\u001b[0m\u001b[1;33m.\u001b[0m\u001b[0marray\u001b[0m\u001b[1;33m(\u001b[0m\u001b[0msplitarr\u001b[0m\u001b[1;33m[\u001b[0m\u001b[1;36m3\u001b[0m\u001b[1;33m]\u001b[0m\u001b[1;33m)\u001b[0m\u001b[1;33m\u001b[0m\u001b[1;33m\u001b[0m\u001b[0m\n\u001b[1;32m---> 12\u001b[1;33m             \u001b[0mzero\u001b[0m\u001b[1;33m.\u001b[0m\u001b[0marrange\u001b[0m\u001b[1;33m(\u001b[0m\u001b[1;36m123\u001b[0m\u001b[1;33m)\u001b[0m\u001b[1;33m\u001b[0m\u001b[1;33m\u001b[0m\u001b[0m\n\u001b[0m\u001b[0;32m     13\u001b[0m             \u001b[0mone\u001b[0m\u001b[1;33m.\u001b[0m\u001b[0marrange\u001b[0m\u001b[1;33m(\u001b[0m\u001b[1;36m123\u001b[0m\u001b[1;33m)\u001b[0m\u001b[1;33m\u001b[0m\u001b[1;33m\u001b[0m\u001b[0m\n\u001b[0;32m     14\u001b[0m             \u001b[0mtwo\u001b[0m\u001b[1;33m.\u001b[0m\u001b[0marrange\u001b[0m\u001b[1;33m(\u001b[0m\u001b[1;36m123\u001b[0m\u001b[1;33m)\u001b[0m\u001b[1;33m\u001b[0m\u001b[1;33m\u001b[0m\u001b[0m\n",
      "\u001b[1;31mAttributeError\u001b[0m: 'numpy.ndarray' object has no attribute 'arrange'"
     ]
    }
   ],
   "source": [
    "## TYPE ANSWER HERE\n",
    "errlist = []\n",
    "errcolsDT = {}\n",
    "errcolsLG = {}\n",
    "for col in dataframe.columns:\n",
    "        splitarr = split_on_feature(x_train,y_train,col,0.5)\n",
    "        if len(splitarr[0]) >= 100 and len(splitarr[1]) >= 100:\n",
    "            zero = np.array(splitarr[0])\n",
    "            one= np.array(splitarr[1])\n",
    "            two = np.array(splitarr[2])\n",
    "            three = np.array(splitarr[3])\n",
    "            errcolsDT[col] = (error(two,dt.predict(zero)),error(three,dt.predict(one)))\n",
    "            errcolsLG[col] = (error(two,logreg.predict(zero)),error(three,logreg.predict(one)))\n",
    "        else:\n",
    "            continue\n",
    "        \n",
    "errcolsDT\n"
   ]
  },
  {
   "cell_type": "markdown",
   "metadata": {},
   "source": [
    "### Problem 5.3: Other Types of Discrepancies (10 points)\n",
    "\n",
    "Instead of error disparities, let's compute two other types of errors that are of interest to us: False Negative Disparity and False Positive Disparity. \n",
    "\n",
    "For the feature racePctblack (percentage of population that is African-American), which is in column 2, compute the False Positive rate and False Negative rate using the provided functions. You should threshold the feature at 0.5 as earlier to create the two sets of samples."
   ]
  },
  {
   "cell_type": "code",
   "execution_count": 17,
   "metadata": {},
   "outputs": [],
   "source": [
    "## INPUTS:\n",
    "# y - true labels\n",
    "# y_hat - predicted labels\n",
    "def fp_error(y, y_hat):\n",
    "    fp_errors = [np.maximum(y_hat[i] - y[i], 0) for i in range(len(y))]\n",
    "    return np.mean(fp_errors)\n",
    "\n",
    "## INPUTS:\n",
    "# y - true labels\n",
    "# y_hat - predicted labels\n",
    "def fn_error(y, y_hat):\n",
    "    fn_errors = [np.maximum(y[i] - y_hat[i], 0) for i in range(len(y))]\n",
    "    return np.mean(fn_errors)"
   ]
  },
  {
   "cell_type": "code",
   "execution_count": 18,
   "metadata": {},
   "outputs": [
    {
     "ename": "NameError",
     "evalue": "name 'y1_fperr' is not defined",
     "output_type": "error",
     "traceback": [
      "\u001b[1;31m---------------------------------------------------------------------------\u001b[0m",
      "\u001b[1;31mNameError\u001b[0m                                 Traceback (most recent call last)",
      "\u001b[1;32m<ipython-input-18-e42ee7cbc8d4>\u001b[0m in \u001b[0;36m<module>\u001b[1;34m\u001b[0m\n\u001b[0;32m      1\u001b[0m \u001b[1;31m## TYPE ANSWER HERE\u001b[0m\u001b[1;33m\u001b[0m\u001b[1;33m\u001b[0m\u001b[1;33m\u001b[0m\u001b[0m\n\u001b[0;32m      2\u001b[0m \u001b[1;33m\u001b[0m\u001b[0m\n\u001b[1;32m----> 3\u001b[1;33m \u001b[0mprint\u001b[0m\u001b[1;33m(\u001b[0m\u001b[1;34m'False Positive Error Rate of Communities with Above Median Black Population: '\u001b[0m\u001b[1;33m,\u001b[0m \u001b[0my1_fperr\u001b[0m\u001b[1;33m)\u001b[0m\u001b[1;33m\u001b[0m\u001b[1;33m\u001b[0m\u001b[0m\n\u001b[0m\u001b[0;32m      4\u001b[0m \u001b[0mprint\u001b[0m\u001b[1;33m(\u001b[0m\u001b[1;34m'False Positive Error Rate of Communities with Below Median Black Population: '\u001b[0m\u001b[1;33m,\u001b[0m \u001b[0my0_fperr\u001b[0m\u001b[1;33m)\u001b[0m\u001b[1;33m\u001b[0m\u001b[1;33m\u001b[0m\u001b[0m\n\u001b[0;32m      5\u001b[0m \u001b[1;33m\u001b[0m\u001b[0m\n",
      "\u001b[1;31mNameError\u001b[0m: name 'y1_fperr' is not defined"
     ]
    }
   ],
   "source": [
    "## TYPE ANSWER HERE\n",
    "\n",
    "print('False Positive Error Rate of Communities with Above Median Black Population: ', y1_fperr)\n",
    "print('False Positive Error Rate of Communities with Below Median Black Population: ', y0_fperr)\n",
    "\n",
    "print('False Negative Error Rate of Communities with Above Median Black Population: ', y1_fnerr)\n",
    "print('False Negative Error Rate of Communities with Below Median Black Population: ', y0_fnerr)"
   ]
  },
  {
   "cell_type": "markdown",
   "metadata": {},
   "source": [
    "## Part 6: Short Response Questions (30 points)"
   ]
  },
  {
   "cell_type": "markdown",
   "metadata": {},
   "source": [
    "#### Q1: When training a machine learning model with some dataset, what are some assumptions we are making about the data? What are some things that it is important for us not to assume? Please give a few examples for each. (5 points)"
   ]
  },
  {
   "cell_type": "markdown",
   "metadata": {},
   "source": [
    "We are assuming the data is I.I.D and it represents a good portion of the population. We cannot assume the data is unbiased and we cannot assume it is a totally representative sample "
   ]
  },
  {
   "cell_type": "markdown",
   "metadata": {},
   "source": [
    "#### Q2: Why is it important to evaluate our model on data which was not used in training? What is the error rate on \"test\" or \"holdout\" data supposed to be a proxy for? (5 points)"
   ]
  },
  {
   "cell_type": "markdown",
   "metadata": {},
   "source": [
    "Because we run the risk of overfitting our training data and thus the testing error will not match the training error, and thus it is not a good model to predict for the data. It's a proxy for how the model will preform on new/unseen data."
   ]
  },
  {
   "cell_type": "markdown",
   "metadata": {},
   "source": [
    "#### Q3: In your own words, explain the results of your plot from 4.1. Why does it make sense that these results occur? (5 points)"
   ]
  },
  {
   "cell_type": "markdown",
   "metadata": {},
   "source": [
    "By increasing the sample size the error will decrease as there is more data for the mdoel to train on. The flucuations are possibly an overfitting of the training data."
   ]
  },
  {
   "cell_type": "markdown",
   "metadata": {},
   "source": [
    "#### Q4: In your own words, explain the results of your plot from 4.2. Why does it make sense that these results occur? (5 points)"
   ]
  },
  {
   "cell_type": "markdown",
   "metadata": {},
   "source": [
    "The graph from 4.2 is an overfitting of the training data because the model complexity is too high."
   ]
  },
  {
   "cell_type": "markdown",
   "metadata": {},
   "source": [
    "#### Q5: In your own words, explain the results of section 5.3. What are some possible implications of this model in terms of unfairness? (5 points)"
   ]
  },
  {
   "cell_type": "markdown",
   "metadata": {},
   "source": [
    "*click here to enter your answer*"
   ]
  },
  {
   "cell_type": "markdown",
   "metadata": {},
   "source": [
    "#### Q6: Look through the available features on the dataset we used, available at http://archive.ics.uci.edu/ml/datasets/communities+and+crime. What are two attributes that you would expect to have high error disparity? What are two attributes you would expect to have low error disparity? (5 points)"
   ]
  },
  {
   "cell_type": "markdown",
   "metadata": {},
   "source": [
    "I thought that both the race distributions would have higher disparity as it should be representative of all communities. I would expect that the percentage that families have 2 children would be low as that is the rough mean for the whole U.S. Additionally I would think that most people are single as we have also treded away from getting married sooner as a society."
   ]
  },
  {
   "cell_type": "markdown",
   "metadata": {},
   "source": [
    "## EXTRA CREDIT: Part 7 (5-10 points)\n",
    "\n",
    "Play around with the data and generate some kind of plot (via matplotlib) that you find interesting. Write a few sentences about your process, what you found, and what you think it suggests about the data. This could be an evaluation of multiple model classes, a statistical analysis of different features, unsupervised analysis, extending the investigation into error discrepancies, or anything else you can think of. \n",
    "\n",
    "Any well-justified solution will earn up to 5 points of extra credit."
   ]
  },
  {
   "cell_type": "code",
   "execution_count": null,
   "metadata": {},
   "outputs": [],
   "source": []
  }
 ],
 "metadata": {
  "kernelspec": {
   "display_name": "Python 3",
   "language": "python",
   "name": "python3"
  },
  "language_info": {
   "codemirror_mode": {
    "name": "ipython",
    "version": 3
   },
   "file_extension": ".py",
   "mimetype": "text/x-python",
   "name": "python",
   "nbconvert_exporter": "python",
   "pygments_lexer": "ipython3",
   "version": "3.7.4"
  }
 },
 "nbformat": 4,
 "nbformat_minor": 2
}
