{
 "cells": [
  {
   "cell_type": "markdown",
   "metadata": {
    "collapsed": true
   },
   "source": [
    "# CSE 146 Lab 2: Causality\n",
    "### ASSIGNED: January 24, 2020\n",
    "### DUE: February 4, 2020"
   ]
  },
  {
   "cell_type": "markdown",
   "metadata": {},
   "source": [
    "The purpose of this assignment is to familiarize yourself with concepts in causality, including the do-calculus and interventions, using interventions to reason about causal relationships in dat, and the difference between correlation and causation."
   ]
  },
  {
   "cell_type": "markdown",
   "metadata": {},
   "source": [
    "## Instructions \n",
    "Prior to beginning the assignment you should read the chapter Causality from _[Fair ML](https://fairmlbook.org/causal.html)_. In addition, if you're not familiar with treating [functions as objects in python](https://www.geeksforgeeks.org/passing-function-as-an-argument-in-python/)  or [basic probability](https://towardsdatascience.com/basic-probability-theory-and-statistics-3105ab637213) you should read the short articles linked. \n",
    "\n",
    "For each question, you should write python code to compute the answer to the questions that renders in a readable way according to the specifications of the question. You may only use the packages provided in the Background and Setup code. We will not be installing any packages during grading, and code that does not compile will negatively affect your grade.\n",
    "\n",
    "This assignment is to be done <b>on your own</b>. You may discuss the assignment with your classmates, but do not share code or solutions. List the students you discussed the assignment with in the space provided below. You may visit any of the TAs in their office hours or ask questions on Piazza.\n",
    "\n",
    "Be sure to rename this homework notebook so that it includes your last name. \n",
    "\n",
    "### List any students you talked with about this assignment here:\n",
    "1. [person 1]\n",
    "2. [person 2]\n",
    "3. etc."
   ]
  },
  {
   "cell_type": "markdown",
   "metadata": {},
   "source": [
    "# Background and Setup\n",
    "\n",
    "In this assignment we will be considering _structural causal models_ and _causal graphs_ describing the relationship between regular exercise, being overweight, and having heart disease, each represented by the variables X, W, and H, respectively. For each variable a 1 indicates a \"yes\" to the question and a 0 indicates a \"no.\" For example, if I have the tuple (1,0,1), that corresponds to a person who exercises regularly, is not overweight, but does have heart disease. \n",
    "\n",
    "<b>Definition 1:</b> A _structural causal model,_ $\\mathbb{M}$, is a set of variables $\\{X_1,X_2,...,X_d\\}$, where\n",
    "\\begin{equation}\n",
    "X_i := f(Pa(X_i)) \\text{ for } i = 1,2,...,d,\n",
    "\\end{equation}\n",
    "\n",
    "$Pa(X_i) \\subseteq \\{X_1,X_2,...,X_d\\} \\cup U_i$ are the \"parents\" of $X_i$, and $U_1,U_2,...,U_d$ are jointly independent noise functions.\n",
    "\n",
    "<b>Definition 2:</b> A _causal graph_ for $\\mathbb{M}$, is a directed graph with nodes $\\{X_1,X_2,...,X_d,U_1,U_2,...,U_d\\}$ and directed edges such that there is an edge from $X_i \\rightarrow X_j$ if and only if $X_i$ is a parent of $X_j$.\n",
    "\n",
    "<b>Definition 3:</b> An _intervention_ on a variable, $X_i$, in a structural causal model, $\\mathbb{M}$, is an assignment of a new distribution function $g$ to $X_i$, resulting in a new structural causal model, $\\mathbb{M}[\\text{do}(X_i := g)]$. Typically $g = c$, where $c$ is some constant.\n",
    "\n",
    "<b>Definition 4:</b> The _expected value_ of a variable, $X$, is given by the formula\n",
    "\\begin{equation}\n",
    "E(X) = \\sum_x xP(x).\n",
    "\\end{equation}\n",
    "\n",
    "Notice that if $P(x)$ is a uniform distribution computing the expected value of $X$ is equivalent to taking the average."
   ]
  },
  {
   "cell_type": "code",
   "execution_count": 1,
   "metadata": {},
   "outputs": [],
   "source": [
    "import pandas\n",
    "import numpy\n",
    "import random\n",
    "\n",
    "def generate_dataset(n, generate_datapoint, X, W, H, columns = []):\n",
    "    d = []\n",
    "    for i in range(n):\n",
    "        d.append(generate_datapoint(X, W, H))\n",
    "        \n",
    "    if len(columns) > 0:\n",
    "        return pandas.DataFrame(d, columns = columns)\n",
    "    else: \n",
    "        return pandas.DataFrame(d)"
   ]
  },
  {
   "cell_type": "markdown",
   "metadata": {},
   "source": [
    "The function `generate_dataset` takes a length of the dataset, a function to generate a datapoint, three distribution functions to be passed to `generate_datapoint`, and an optional argument, columns. If you choose to rename the columns, the number of columns must match the size of the generated data point."
   ]
  },
  {
   "cell_type": "markdown",
   "metadata": {},
   "source": [
    "# Problems\n",
    "### Problem 1 (15 points)\n",
    "#### Question\n",
    "Based on the code in `generate_M_datapoint` and in the distribution functions we have defined a _structural causal model,_ which we will call $\\mathbb{M}$. \n",
    "\n",
    "(a) List the edges in the causal graph assosiated with $\\mathbb{M}$ in the form $A \\rightarrow B$, where $A$ is a parent of $B$. Be sure that the arrow is pointing in the right direction! (5 points)\n",
    "\n",
    "(b) Analytically compute the probability that each variable in $\\mathbb{M}$ is true (e.g. $P(X = 1)$) in our _structural causal model_ using the formula\n",
    "\\begin{equation}\n",
    "P(A) = \\sum_B P(A|B)P(B).\n",
    "\\end{equation}\n",
    "\n",
    "Show your work! (<b>hint</b>: Start with $X$. Observe that `random.randint(a,b)` is a uniform distribution over the interval $[a,b]$.) (10 points)"
   ]
  },
  {
   "cell_type": "code",
   "execution_count": 2,
   "metadata": {},
   "outputs": [],
   "source": [
    "def generate_M_datapoint(X, W, H):\n",
    "    x = X()\n",
    "    w = W(x)\n",
    "    h = H(x)\n",
    "    return [x, w, h]\n",
    "\n",
    "def X_M_distribution():\n",
    "    return random.randint(0,1)\n",
    "\n",
    "def W_M_distribution(x):\n",
    "    if(x == 1):\n",
    "        return int(random.randint(0,5) < 1) #1/6\n",
    "    else:\n",
    "        return int(random.randint(0,2) < 1) #1/3\n",
    "\n",
    "def H_M_distribution(x):\n",
    "    if(x == 1):\n",
    "        return int(random.randint(0,3) < 1) #1/4\n",
    "    else:\n",
    "        return int(random.randint(0,1) < 1) #1/2"
   ]
  },
  {
   "cell_type": "markdown",
   "metadata": {},
   "source": [
    "#### Answer"
   ]
  },
  {
   "cell_type": "markdown",
   "metadata": {},
   "source": [
    "(a) W <- X -> H\n",
    "\n",
    "(b) P(X=1) = 1/2\n",
    "\n",
    "    P(W=1) = P(W=1, X=1)*P(X=1) + P(W=1, X=0)*P(X=0) = 1/12 + 1/6 = 3/12\n",
    "    \n",
    "    P(H=1) = P(H=1, X=1)*P(X=1) + P(H=1, X=0)*P(X=0) = 1/8 + 1/4 = 3/8"
   ]
  },
  {
   "cell_type": "markdown",
   "metadata": {},
   "source": [
    "### Problem 2 (10 points)\n",
    "#### Question\n",
    "\n",
    "(a) Using `generate_dataset`, generate a dataset called `M_data` of size 1,000,000 with column names 'X', 'W', and 'H' using the distributions defining $\\mathbb{M}$ from Problem 1. (5 points)\n",
    "\n",
    "(b) Using your new dataset, `M_data`, compute (and display) the conditional probability $P_\\mathbb{M}( H = 1 | W = 1)$. (5 points)\n",
    "#### Answer"
   ]
  },
  {
   "cell_type": "code",
   "execution_count": 3,
   "metadata": {},
   "outputs": [],
   "source": [
    "# (a)\n",
    "M_data = generate_dataset(1000000,generate_M_datapoint,X_M_distribution,W_M_distribution,H_M_distribution,['X','W','H'])"
   ]
  },
  {
   "cell_type": "code",
   "execution_count": 13,
   "metadata": {},
   "outputs": [
    {
     "name": "stdout",
     "output_type": "stream",
     "text": [
      "0.41810547086496697\n"
     ]
    }
   ],
   "source": [
    "# (b)\n",
    "W_rows = M_data[M_data['W'] == 1]\n",
    "#H_rows = M_data[M_data['H'] == 1]\n",
    "HW_rows = W_rows[W_rows['H'] == 1]\n",
    "prob = (((len(HW_rows)/len(M_data))/(len(W_rows)/len(M_data))))\n",
    "print(prob)"
   ]
  },
  {
   "cell_type": "markdown",
   "metadata": {},
   "source": [
    "### Problem 3 (20 points)\n",
    "#### Question\n",
    "\n",
    "(a) Using `generate_dataset`, generate a dataset named `MdoW1_data` of size 1,000,000 with column names 'X', 'W', and 'H' using the distributions defining $\\mathbb{M}[\\text{do}(W := 1)]$. Notice that this amounts to changing the distribution for $W$ meaning you will have to define a new distribution function for $W$ and a new function to generate a datapoint. Name the new data generation function for $\\mathbb{M}[\\text{do}(W := 1)]$ `generate_MdoW_datapoint` and your new function defining the distribution $W := 1$ `W_MdoW1_distribution`. (15 points)\n",
    "\n",
    "(b) Using this dataset, compute (and display) $P_{\\mathbb{M}[\\text{do}(W := 1)]}(H =1)$. (5 points)\n",
    "\n",
    "#### Answer"
   ]
  },
  {
   "cell_type": "code",
   "execution_count": 5,
   "metadata": {},
   "outputs": [],
   "source": [
    "# (a)\n",
    "def generate_MdoW_datapoint(X, W, H):\n",
    "    x = X()\n",
    "    w = W()\n",
    "    h = H(x)\n",
    "    return [x, w, h]\n",
    "\n",
    "def W_MdoW1_distribution():\n",
    "    return 1\n",
    "\n",
    "MdoW1_data = generate_dataset(1000000,generate_MdoW_datapoint,X_M_distribution,W_MdoW1_distribution,H_M_distribution,['X','W','H'])\n",
    "\n",
    "#MdoW1_data\n"
   ]
  },
  {
   "cell_type": "code",
   "execution_count": 14,
   "metadata": {},
   "outputs": [
    {
     "name": "stdout",
     "output_type": "stream",
     "text": [
      "0.374611\n"
     ]
    }
   ],
   "source": [
    "# (b)\n",
    "H1_rows = MdoW1_data[MdoW1_data['H'] == 1]\n",
    "prob2 = ((len(H1_rows)/len(MdoW1_data)))\n",
    "print(prob2)"
   ]
  },
  {
   "cell_type": "markdown",
   "metadata": {},
   "source": [
    "### Problem 4 (10 points + 2 extra credit)\n",
    "#### Question\n",
    "(a) List the edges in the causal graph assosiated with $\\mathbb{M}[\\text{do}(W := 1)]$ in the form $A \\rightarrow B$, where $A$ is a parent of $B$. (5 points)\n",
    "\n",
    "(b) How does $P_{\\mathbb{M}[\\text{do}(W := 1)]}(H =1)$ compare with the conditional probability $P_\\mathbb{M}( H = 1 | W = 1)$ you computed in Problem 2? From this, what can you conclude about the causal relationship between $W$ and $H$ in $\\mathbb{M}$? What is $X$ called in $\\mathbb{M}$? (5 points)\n",
    "\n",
    "(Extra Credit) What about the structure of the causal graph of $\\mathbb{M}$ would tell us that $X$ is a ----. (2 points)\n",
    "\n",
    "#### Answer"
   ]
  },
  {
   "cell_type": "markdown",
   "metadata": {},
   "source": [
    "(a) X -> H\n",
    "\n",
    "(b) prob = 0.41810547086496697 | prob2 = 0.374611, W and H are independent of each other. X is a confounding variable.\n",
    "\n",
    "(Extra Credit)\n",
    "If X was not a confounding variable, the two probabilities we calculated would be the same.\n"
   ]
  },
  {
   "cell_type": "markdown",
   "metadata": {},
   "source": [
    "### Problem 5 (20 points)\n",
    "#### Question\n",
    "(a) Using `generate_dataset`, generate a dataset named `MdoW0_data` of size 1,000,000 with column names 'X', 'W', and 'H' using the distributions defining 𝕄[do(𝑊:=0)]. To do this, as before, define a new function for the distribution $W := 0$ named `W_MdoW0_distribution`. If you did Problem 3 well, you can reuse the function `generate_MdoW_datapoint`, otherwise you'll need to write a function `generate_MdoW0_datapoint`. (5 points)\n",
    "\n",
    "(b) To further elucidate the relationship between $W$ and $H$ compute (and display)\n",
    "\\begin{equation}\n",
    "E_{\\mathbb{M}[\\text{do}(W := 1)]}(H) - E_{\\mathbb{M}[\\text{do}(W := 0)]}(H). \\text{ (10 points)}\n",
    "\\end{equation}\n",
    "\n",
    "This is called the _average treatment effect_ of $W$ on $H$, and it tells us how much the intervention on $W$ changes the expectation of $H$.\n",
    "\n",
    "(c) Does the insight from the _average treatment effect_ of $W$ on $H$ agree with your conclusions from Problem 4(b)? (5 points)\n",
    "\n",
    "\n",
    "#### Answer"
   ]
  },
  {
   "cell_type": "code",
   "execution_count": 18,
   "metadata": {},
   "outputs": [],
   "source": [
    "# (a)\n",
    "def W_MdoW0_distribution():\n",
    "    return 0\n",
    "\n",
    "MdoW0_data = generate_dataset(1000000,generate_MdoW_datapoint,X_M_distribution,W_MdoW0_distribution,H_M_distribution,['X','W','H'])\n",
    "\n",
    "#MdoW0_data"
   ]
  },
  {
   "cell_type": "code",
   "execution_count": 19,
   "metadata": {},
   "outputs": [
    {
     "name": "stdout",
     "output_type": "stream",
     "text": [
      "-0.0003309999999999702\n"
     ]
    }
   ],
   "source": [
    "# (b)\n",
    "H1_W0_rows = MdoW0_data[MdoW0_data['H'] == 1]\n",
    "H1_W1_rows = MdoW1_data[MdoW1_data['H'] == 1]\n",
    "ex_prob_h = ((len(H1_W1_rows))/(len(MdoW1_data))) - ((len(H1_W0_rows))/(len(MdoW0_data)))\n",
    "print(ex_prob_h)"
   ]
  },
  {
   "cell_type": "markdown",
   "metadata": {},
   "source": [
    "(c) Yes because W should not influence the amount of times H = 1 in both datasets. "
   ]
  },
  {
   "cell_type": "markdown",
   "metadata": {},
   "source": [
    "### Problem 6 (25 points)\n",
    "Up until now we have assumed that we know precisely the data generation process (enough to program it!), and so we have computed interventions in our _structural causal model_ by directly changing the data generation process and creating a new dataset. In the real world, it is unlikely that we would know exactly how data is generated, and it is even less likely that we would be able to gather a new dataset. However, given our expert knowledge of this domain, we can come up with a _causal graph_ that we believe represents how different columns in our dataset are causally dependent. From this, we can estimate the effect of an intervention using the formula\n",
    "\\begin{equation}\n",
    "P_{\\mathbb{M}[\\text{do}(A := a)]}(B = b) = \\sum_z P_{\\mathbb{M}}(B = b | A = a, Pa(B) = z)P_{\\mathbb{M}}(Pa(B) = z).\n",
    "\\end{equation}\n",
    "\n",
    "#### Question\n",
    "(a) What are the parent(s) of $W$ in $\\mathbb{M}$, and what are the possible values they(it) can take? (5 points)\n",
    "\n",
    "(b) Using the _causal graph_ you discovered in Problem 1(a) and the dataset `M_data` from Problem 2, compute (and display) $P_{\\mathbb{M}[\\text{do}(W := 1)]}(H = 1)$ with the above formula. (15 points)\n",
    "\n",
    "(c) How does the estimated intervention compare to the intervention you computed in Problem 3(b)? What does this tell you about the _causal graph_ we've assumed? (5 points)\n",
    "\n",
    "\n",
    "#### Answer"
   ]
  },
  {
   "cell_type": "markdown",
   "metadata": {},
   "source": [
    "(a) The parent of W is X, in M"
   ]
  },
  {
   "cell_type": "code",
   "execution_count": 49,
   "metadata": {},
   "outputs": [
    {
     "name": "stdout",
     "output_type": "stream",
     "text": [
      "0.18730564373374542\n"
     ]
    }
   ],
   "source": [
    "# (b)\n",
    "x0_row = MdoW1_data[MdoW1_data['X'] == 0]\n",
    "x1_row = MdoW1_data[MdoW1_data['X'] == 1]\n",
    "w_row = MdoW1_data[MdoW1_data['W'] == 1]\n",
    "h_row = w_row[w_row['H'] == 1]\n",
    "\n",
    "#w_row_x0 = x0_row[x0_row['W'] == 1]\n",
    "#w_row_x1 = x1_row[x1_row['W'] == 1]\n",
    "\n",
    "h_given_wx0 = w_row_x0[w_row_x0['H'] == 1]\n",
    "h_given_wx1 = w_row_x1[w_row_x1['H'] == 1]\n",
    "\n",
    "x0_prob = ((len(x0_row)/len(MdoW1_data)))\n",
    "x1_prob = ((len(x1_row)/len(MdoW1_data)))\n",
    "\n",
    "#w_row_x0_prob = len(w_row_x0)/len(MdoW1_data)\n",
    "#w_row_x1_prob = len(w_row_x1)/len(MdoW1_data)\n",
    "\n",
    "#h_give_wx0_prob = len(h_given_wx0)/len(MdoW1_data)\n",
    "#h_give_wx1_prob = len(h_given_wx1)/len(MdoW1_data)\n",
    "\n",
    "hi = len(h_row)/len(MdoW1_data)\n",
    "hi0 = len(w_row)/len(MdoW1_data)\n",
    "\n",
    "h0_top = hi * hi0\n",
    "\n",
    "h1_top = hi * hi0\n",
    "\n",
    "\n",
    "cpr0 = h0_top / hi0\n",
    "\n",
    "xo_cpr0 = cpr0 * x0_prob\n",
    "x1_cpr1 = cpr0 * x1_prob\n",
    "\n",
    "\n",
    "final0 = xo_cpr0 * x0_prob\n",
    "final1 = x1_cpr1 * x1_prob\n",
    "\n",
    "final = final0 + final1\n",
    "\n",
    "print(final)"
   ]
  },
  {
   "cell_type": "markdown",
   "metadata": {},
   "source": [
    "(c) The intervention is about half of what we calculated in problem 3."
   ]
  },
  {
   "cell_type": "markdown",
   "metadata": {},
   "source": [
    "# References\n",
    "[1] Barocas, Hardt, Narayanan: _Fairness and Machine Learning Ch. 4, Causality._ fairmlbook.org, http://www.fairmlbook.org, 2019."
   ]
  }
 ],
 "metadata": {
  "kernelspec": {
   "display_name": "Python 3",
   "language": "python",
   "name": "python3"
  },
  "language_info": {
   "codemirror_mode": {
    "name": "ipython",
    "version": 3
   },
   "file_extension": ".py",
   "mimetype": "text/x-python",
   "name": "python",
   "nbconvert_exporter": "python",
   "pygments_lexer": "ipython3",
   "version": "3.7.4"
  }
 },
 "nbformat": 4,
 "nbformat_minor": 2
}
