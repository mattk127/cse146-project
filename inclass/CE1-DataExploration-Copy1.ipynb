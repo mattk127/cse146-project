{
 "cells": [
  {
   "cell_type": "markdown",
   "metadata": {},
   "source": [
    "# CSE 146 Group Exercise 0: Intro to Data Provenance\n",
    "### Thursday, January 9, 2019"
   ]
  },
  {
   "cell_type": "markdown",
   "metadata": {},
   "source": [
    "## Data Provenance\n",
    "Divide into groups of 2-3 people. Your goal is to take up a data set available on the web and investigate it. You are looking for the \"metadata\" about the creation and curation of the data set, about its limitations and its potential insight. As as group, try to answer as many of these questions as possible. \n",
    "\n",
    "To begin, point your browser to https://archive.ics.uci.edu/ml/index.php. This is a machine learning data repository, with many, many data sets. Each data set is available for download and is accompanied by a description. Write down your answers to the following questions *in* the following block below the corresponding question. (You can edit any text block in this notebook by double-clicking it. When you're done editing, just press `shift + enter`.)"
   ]
  },
  {
   "cell_type": "markdown",
   "metadata": {},
   "source": [
    "### List the cruzID's of the students in your group here:\n",
    "1. [marklein]\n",
    "2. [akarsan]"
   ]
  },
  {
   "cell_type": "markdown",
   "metadata": {},
   "source": [
    "### Basic Technical Questions"
   ]
  },
  {
   "cell_type": "markdown",
   "metadata": {},
   "source": [
    "**What is the data set called and what is the web address?**\n",
    "\n",
    "\n",
    "-Bejing multi-site air quality data\n",
    "\n",
    "https://archive.ics.uci.edu/ml/datasets/Beijing+Multi-Site+Air-Quality+Data"
   ]
  },
  {
   "cell_type": "markdown",
   "metadata": {},
   "source": [
    "**What formats is the data available in?**\n",
    "\n",
    "Excel"
   ]
  },
  {
   "cell_type": "markdown",
   "metadata": {},
   "source": [
    "**How many fields and rows are in the data sets?**\n",
    "\n",
    "Fields: 18\n",
    "Rows: 35065"
   ]
  },
  {
   "cell_type": "markdown",
   "metadata": {},
   "source": [
    "**How are empty values noted?**\n",
    "\n",
    "With \"N/A\""
   ]
  },
  {
   "cell_type": "markdown",
   "metadata": {},
   "source": [
    "### Get the Data\n",
    "\n",
    "You can download directly from the web interface or you can download directly from the command line. "
   ]
  },
  {
   "cell_type": "markdown",
   "metadata": {},
   "source": [
    "For example, the dataset for the abalone dataset is located at https://archive.ics.uci.edu/ml/machine-learning-databases/abalone/abalone.data.\n",
    "\n",
    "Specifying `~/` at the end tells the `wget` where to put the file it just downloaded. `~/` stands for your home directory.\n",
    "\n",
    "So, assuming you wanted the abalone dataset, you would run the following command:\n",
    "\n",
    "    wget https://archive.ics.uci.edu/ml/machine-learning-databases/abalone/abalone.data ~/"
   ]
  },
  {
   "cell_type": "code",
   "execution_count": 8,
   "metadata": {},
   "outputs": [
    {
     "name": "stderr",
     "output_type": "stream",
     "text": [
      "'wget' is not recognized as an internal or external command,\n",
      "operable program or batch file.\n"
     ]
    }
   ],
   "source": [
    "# reminder: press shift + enter to execute the code block\n",
    "! wget https://archive.ics.uci.edu/ml/machine-learning-databases/00501/PRSA2017_Data_20130301-20170228.zip ~/"
   ]
  },
  {
   "cell_type": "markdown",
   "metadata": {},
   "source": [
    "### Where does the data come from? "
   ]
  },
  {
   "cell_type": "code",
   "execution_count": null,
   "metadata": {},
   "outputs": [],
   "source": []
  },
  {
   "cell_type": "markdown",
   "metadata": {},
   "source": [
    "**Who collected it, and how was it collected?**\n",
    "\n",
    "Song Xi Chen collected the data and it was collected through monitoring centers"
   ]
  },
  {
   "cell_type": "markdown",
   "metadata": {},
   "source": [
    "**Were automatic sensors involved? What do we know about their configuration?**\n",
    "\n",
    "no automatic sensors"
   ]
  },
  {
   "cell_type": "markdown",
   "metadata": {},
   "source": [
    "**What sort of human researchers? Students? PhDs?**\n",
    "\n",
    "Student"
   ]
  },
  {
   "cell_type": "markdown",
   "metadata": {},
   "source": [
    "**What assumptions are behind the choice of things to record and how to classify them?**\n",
    "\n",
    "They looked at the pollutants in the air and the variables that might effect them. "
   ]
  },
  {
   "cell_type": "markdown",
   "metadata": {},
   "source": [
    "**What processing was involved? Where is human judgment behind the production of the data?**\n",
    "\n",
    "Parsing and inputing the data into the spreadsheet"
   ]
  },
  {
   "cell_type": "markdown",
   "metadata": {},
   "source": [
    "**Are there claims about how representative the data is?**\n",
    "\n",
    "No"
   ]
  },
  {
   "cell_type": "markdown",
   "metadata": {},
   "source": [
    "**What legal constraints exist around the use of the data?**\n",
    "\n",
    "Data needs to be cited in any use"
   ]
  },
  {
   "cell_type": "code",
   "execution_count": null,
   "metadata": {},
   "outputs": [],
   "source": []
  }
 ],
 "metadata": {
  "anaconda-cloud": {},
  "kernelspec": {
   "display_name": "Python 3",
   "language": "python",
   "name": "python3"
  },
  "language_info": {
   "codemirror_mode": {
    "name": "ipython",
    "version": 3
   },
   "file_extension": ".py",
   "mimetype": "text/x-python",
   "name": "python",
   "nbconvert_exporter": "python",
   "pygments_lexer": "ipython3",
   "version": "3.7.4"
  }
 },
 "nbformat": 4,
 "nbformat_minor": 2
}
